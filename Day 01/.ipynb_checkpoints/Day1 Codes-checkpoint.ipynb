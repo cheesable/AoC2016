{
 "cells": [
  {
   "cell_type": "code",
   "execution_count": 1,
   "metadata": {},
   "outputs": [],
   "source": [
    "#Question1\n",
    "#The Document indicates that you should start at the given coordinates (where you just landed) and face North. \n",
    "#Then, follow the provided sequence: either turn left (L) or right (R) 90 degrees, \n",
    "#then walk forward the given number of blocks, ending at a new intersection.\n",
    "\n",
    "#There's no time to follow such ridiculous instructions on foot, though, \n",
    "#so you take a moment and work out the destination.\n",
    "#Given that you can only walk on the street grid of the city, how far is the shortest path to the destination?"
   ]
  },
  {
   "cell_type": "code",
   "execution_count": 2,
   "metadata": {},
   "outputs": [],
   "source": [
    "#Test Code\n",
    "\n"
   ]
  },
  {
   "cell_type": "code",
   "execution_count": 3,
   "metadata": {},
   "outputs": [],
   "source": [
    "#Test Code"
   ]
  },
  {
   "cell_type": "code",
   "execution_count": 3,
   "metadata": {},
   "outputs": [],
   "source": [
    "import pandas as pd"
   ]
  },
  {
   "cell_type": "code",
   "execution_count": 4,
   "metadata": {},
   "outputs": [
    {
     "name": "stdout",
     "output_type": "stream",
     "text": [
      "  Instructions\n",
      "0           R1\n",
      "1           R1\n"
     ]
    }
   ],
   "source": [
    "#Define function\n",
    "\n",
    "#First lets understand input\n",
    "#Input are string based, with 2 key information L/R and the integer\n",
    "#each input is seperated by a comma\n",
    "\n",
    "#Split input string into list seperating it by commas\n",
    "#Save it into Column 1 of panda\n",
    "#Split out R/L and integer into Column 2 and 3 respectively\n",
    "#Generate Facing Direction with N=0, E=1, S=2, W=3\n",
    "#Generate displacements in X and Y direction\n",
    "#Sum values and Solve\n",
    "\n",
    "example = \"R1,R1\"\n",
    "def solver(example):\n",
    "    df = pd.DataFrame(data={'Instructions':example.split(\",\")})\n",
    "    len(df.index)\n",
    "    print(df)\n",
    "solver(example)"
   ]
  },
  {
   "cell_type": "code",
   "execution_count": 5,
   "metadata": {},
   "outputs": [
    {
     "name": "stdout",
     "output_type": "stream",
     "text": [
      "1\n"
     ]
    }
   ],
   "source": [
    "#Test 1\n",
    "\n",
    "solver(\"R2,L3\")\n",
    "\n",
    "#Answer is 5"
   ]
  },
  {
   "cell_type": "code",
   "execution_count": 6,
   "metadata": {},
   "outputs": [
    {
     "name": "stdout",
     "output_type": "stream",
     "text": [
      "1\n"
     ]
    }
   ],
   "source": [
    "#Test 2\n",
    "\n",
    "solver(\"R2,R2,R2\")\n",
    "\n",
    "#Answer is 2"
   ]
  },
  {
   "cell_type": "code",
   "execution_count": 7,
   "metadata": {},
   "outputs": [
    {
     "name": "stdout",
     "output_type": "stream",
     "text": [
      "1\n"
     ]
    }
   ],
   "source": [
    "#Test 3\n",
    "\n",
    "solver(\"R5,L5,R5,R3\")\n",
    "\n",
    "#Answer is 12"
   ]
  },
  {
   "cell_type": "code",
   "execution_count": 8,
   "metadata": {},
   "outputs": [],
   "source": [
    "#Final test"
   ]
  },
  {
   "cell_type": "code",
   "execution_count": null,
   "metadata": {},
   "outputs": [],
   "source": []
  },
  {
   "cell_type": "code",
   "execution_count": null,
   "metadata": {},
   "outputs": [],
   "source": []
  },
  {
   "cell_type": "code",
   "execution_count": null,
   "metadata": {},
   "outputs": [],
   "source": []
  }
 ],
 "metadata": {
  "kernelspec": {
   "display_name": "Python 3",
   "language": "python",
   "name": "python3"
  },
  "language_info": {
   "codemirror_mode": {
    "name": "ipython",
    "version": 3
   },
   "file_extension": ".py",
   "mimetype": "text/x-python",
   "name": "python",
   "nbconvert_exporter": "python",
   "pygments_lexer": "ipython3",
   "version": "3.6.5"
  }
 },
 "nbformat": 4,
 "nbformat_minor": 2
}
