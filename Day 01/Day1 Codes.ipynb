{
 "cells": [
  {
   "cell_type": "code",
   "execution_count": 27,
   "metadata": {},
   "outputs": [],
   "source": [
    "#Question1\n",
    "#The Document indicates that you should start at the given coordinates (where you just landed) and face North. \n",
    "#Then, follow the provided sequence: either turn left (L) or right (R) 90 degrees, \n",
    "#then walk forward the given number of blocks, ending at a new intersection.\n",
    "\n",
    "#There's no time to follow such ridiculous instructions on foot, though, \n",
    "#so you take a moment and work out the destination.\n",
    "#Given that you can only walk on the street grid of the city, how far is the shortest path to the destination?"
   ]
  },
  {
   "cell_type": "code",
   "execution_count": 28,
   "metadata": {},
   "outputs": [],
   "source": [
    "#Test Code\n",
    "\n"
   ]
  },
  {
   "cell_type": "code",
   "execution_count": 29,
   "metadata": {},
   "outputs": [],
   "source": [
    "#Test Code"
   ]
  },
  {
   "cell_type": "code",
   "execution_count": 30,
   "metadata": {},
   "outputs": [],
   "source": [
    "import pandas as pd"
   ]
  },
  {
   "cell_type": "code",
   "execution_count": 186,
   "metadata": {},
   "outputs": [
    {
     "name": "stdout",
     "output_type": "stream",
     "text": [
      "[1, 2]\n"
     ]
    },
    {
     "data": {
      "text/plain": [
       "2"
      ]
     },
     "execution_count": 186,
     "metadata": {},
     "output_type": "execute_result"
    }
   ],
   "source": [
    "#Define function\n",
    "\n",
    "#First lets understand input\n",
    "#Input are string based, with 2 key information L/R and the integer\n",
    "#each input is seperated by a comma\n",
    "\n",
    "#Split input string into list seperating it by commas\n",
    "#Save it into Column 1 of panda\n",
    "#Split out R/L and integer into Column 2 and 3 respectively\n",
    "#Generate Facing Direction with N=0, E=1, S=2, W=3\n",
    "#Generate displacements in X and Y direction\n",
    "#Sum values and Solve\n",
    "\n",
    "def firstchar(x):\n",
    "    return x['Instructions'][0]\n",
    "\n",
    "def remfirchar(x):\n",
    "    return x['Instructions'][1:]\n",
    "\n",
    "def NSEW(x):\n",
    "    while x['Direction'] > 3:\n",
    "        x['Direction'] -= 4\n",
    "    while x['Direction'] < 0:\n",
    "        x['Direction'] += 4\n",
    "    return x['Direction']\n",
    "\n",
    "def XDisplac(x):\n",
    "    if x['Direction'] == 1:\n",
    "        return int(x['Mag'])\n",
    "    if x['Direction'] == 3:\n",
    "        return -int(x['Mag'])\n",
    "    return 0;\n",
    "\n",
    "def YDisplac(x):\n",
    "    if x['Direction'] == 0:\n",
    "        return int(x['Mag'])\n",
    "    if x['Direction'] == 2:\n",
    "        return -int(x['Mag'])\n",
    "    return 0;\n",
    "\n",
    "example = \"R1, R1\"\n",
    "def solver(example):\n",
    "    #Split input string into list seperating it by commas\n",
    "    #Save it into Column 1 of panda\n",
    "    df = pd.DataFrame(data={'Instructions':example.split(\", \")})\n",
    "    #Split out R/L and integer into Column 2 and 3 respectively\n",
    "    df['RL']= df.apply(firstchar,axis=1)\n",
    "    df['Mag']= df.apply(remfirchar,axis=1)\n",
    "    #Generate Facing Direction with N=0, E=1, S=2, W=3\n",
    "    dir = [0]\n",
    "    i=0\n",
    "    for row in df.iterrows():\n",
    "        if df.iloc[i][1] == 'R':\n",
    "            dir.append(dir[i]+1)\n",
    "#           print('right')\n",
    "        else:\n",
    "            dir.append(dir[i]-1)\n",
    "#            print('left')\n",
    "        i += 1\n",
    "    dir.remove(0)\n",
    "    print(dir)\n",
    "    df['Direction'] = dir\n",
    "    df['Direction'] = df.apply(NSEW, axis=1)\n",
    "    #Generate displacements in X and Y direction\n",
    "    df['X'] = df.apply(XDisplac, axis=1)\n",
    "    df['Y'] = df.apply(YDisplac, axis=1)\n",
    "    ##print(df)\n",
    "    #Sum values and Solve\n",
    "    Total = abs(df['X'].sum()) + abs(df['Y'].sum())\n",
    "    return Total;\n",
    "solver(example)"
   ]
  },
  {
   "cell_type": "code",
   "execution_count": 187,
   "metadata": {},
   "outputs": [
    {
     "name": "stdout",
     "output_type": "stream",
     "text": [
      "[1, 0]\n"
     ]
    },
    {
     "data": {
      "text/plain": [
       "5"
      ]
     },
     "execution_count": 187,
     "metadata": {},
     "output_type": "execute_result"
    }
   ],
   "source": [
    "#Test 1\n",
    "\n",
    "solver(\"R2, L3\")\n",
    "\n",
    "#Answer is 5"
   ]
  },
  {
   "cell_type": "code",
   "execution_count": 188,
   "metadata": {},
   "outputs": [
    {
     "name": "stdout",
     "output_type": "stream",
     "text": [
      "[1, 2, 3]\n"
     ]
    },
    {
     "data": {
      "text/plain": [
       "2"
      ]
     },
     "execution_count": 188,
     "metadata": {},
     "output_type": "execute_result"
    }
   ],
   "source": [
    "#Test 2\n",
    "\n",
    "solver(\"R2, R2, R2\")\n",
    "\n",
    "#Answer is 2"
   ]
  },
  {
   "cell_type": "code",
   "execution_count": 189,
   "metadata": {},
   "outputs": [
    {
     "name": "stdout",
     "output_type": "stream",
     "text": [
      "[1, 0, 1, 2]\n"
     ]
    },
    {
     "data": {
      "text/plain": [
       "12"
      ]
     },
     "execution_count": 189,
     "metadata": {},
     "output_type": "execute_result"
    }
   ],
   "source": [
    "#Test 3\n",
    "\n",
    "solver(\"R5, L5, R5, R3\")\n",
    "\n",
    "#Answer is 12"
   ]
  },
  {
   "cell_type": "code",
   "execution_count": 190,
   "metadata": {},
   "outputs": [
    {
     "name": "stdout",
     "output_type": "stream",
     "text": [
      "L1, L5, R1, R3, L4, L5, R5, R1, L2, L2, L3, R4, L2, R3, R1, L2, R5, R3, L4, R4, L3, R3, R3, L2, R1, L3, R2, L1, R4, L2, R4, L4, R5, L3, R1, R1, L1, L3, L2, R1, R3, R2, L1, R4, L4, R2, L189, L4, R5, R3, L1, R47, R4, R1, R3, L3, L3, L2, R70, L1, R4, R185, R5, L4, L5, R4, L1, L4, R5, L3, R2, R3, L5, L3, R5, L1, R5, L4, R1, R2, L2, L5, L2, R4, L3, R5, R1, L5, L4, L3, R4, L3, L4, L1, L5, L5, R5, L5, L2, L1, L2, L4, L1, L2, R3, R1, R1, L2, L5, R2, L3, L5, L4, L2, L1, L2, R3, L1, L4, R3, R3, L2, R5, L1, L3, L3, L3, L5, R5, R1, R2, L3, L2, R4, R1, R1, R3, R4, R3, L3, R3, L5, R2, L2, R4, R5, L4, L3, L1, L5, L1, R1, R2, L1, R3, R4, R5, R2, R3, L2, L1, L5\n"
     ]
    }
   ],
   "source": [
    "#Final test\n",
    "f = open('TestCode.txt','r')\n",
    "message = f.read()\n",
    "print(message)"
   ]
  },
  {
   "cell_type": "code",
   "execution_count": 191,
   "metadata": {},
   "outputs": [
    {
     "name": "stdout",
     "output_type": "stream",
     "text": [
      "[-1, -2, -1, 0, -1, -2, -1, 0, -1, -2, -3, -2, -3, -2, -1, -2, -1, 0, -1, 0, -1, 0, 1, 0, 1, 0, 1, 0, 1, 0, 1, 0, 1, 0, 1, 2, 1, 0, -1, 0, 1, 2, 1, 2, 1, 2, 1, 0, 1, 2, 1, 2, 3, 4, 5, 4, 3, 2, 3, 2, 3, 4, 5, 4, 3, 4, 3, 2, 3, 2, 3, 4, 3, 2, 3, 2, 3, 2, 3, 4, 3, 2, 1, 2, 1, 2, 3, 2, 1, 0, 1, 0, -1, -2, -3, -4, -3, -4, -5, -6, -7, -8, -9, -10, -9, -8, -7, -8, -9, -8, -9, -10, -11, -12, -13, -14, -13, -14, -15, -14, -13, -14, -13, -14, -15, -16, -17, -18, -17, -16, -15, -16, -17, -16, -15, -14, -13, -12, -11, -12, -11, -12, -11, -12, -11, -10, -11, -12, -13, -14, -15, -14, -13, -14, -13, -12, -11, -10, -9, -10, -11, -12]\n"
     ]
    },
    {
     "data": {
      "text/plain": [
       "253"
      ]
     },
     "execution_count": 191,
     "metadata": {},
     "output_type": "execute_result"
    }
   ],
   "source": [
    "solver(message)"
   ]
  },
  {
   "cell_type": "code",
   "execution_count": null,
   "metadata": {},
   "outputs": [],
   "source": []
  },
  {
   "cell_type": "code",
   "execution_count": null,
   "metadata": {},
   "outputs": [],
   "source": []
  }
 ],
 "metadata": {
  "kernelspec": {
   "display_name": "Python 3",
   "language": "python",
   "name": "python3"
  },
  "language_info": {
   "codemirror_mode": {
    "name": "ipython",
    "version": 3
   },
   "file_extension": ".py",
   "mimetype": "text/x-python",
   "name": "python",
   "nbconvert_exporter": "python",
   "pygments_lexer": "ipython3",
   "version": "3.6.5"
  }
 },
 "nbformat": 4,
 "nbformat_minor": 2
}
